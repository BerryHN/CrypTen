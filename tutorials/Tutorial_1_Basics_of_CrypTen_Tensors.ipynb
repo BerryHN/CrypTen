{
 "cells": [
  {
   "cell_type": "markdown",
   "metadata": {
    "collapsed": true
   },
   "source": [
    "We now have a high-level understanding of how secure MPC works. In the following tutorials, we will describe how to use CrypTen to carry out secure operations on encrypted tensors. \n",
    "\n",
    "In this tutorial, we will introduce a fundamental building block in CrypTen, called ```CrypTensor```. Think of an  ```CrypTensor``` as an encrypted ```torch``` tensor that it can be used for computing securely on data. CrypTen currently only supports secure MPC protocols, so a ```CrypTensor``` is actually a tensor encrypted using secure MPC protocols, called ```MPCTensor```. We'll go into greater detail about ```MPCTensors``` in Tutorial 2. \n",
    "\n",
    "Let's begin by importing ```crypten``` and ```torch``` libraries. (If the imports fail, please see the installation instructions at <b>TODO</b>)."
   ]
  },
  {
   "cell_type": "code",
   "execution_count": 1,
   "metadata": {},
   "outputs": [],
   "source": [
    "import torch\n",
    "import crypten\n",
    "\n",
    "crypten.init()"
   ]
  },
  {
   "cell_type": "markdown",
   "metadata": {},
   "source": [
    "### Creating an Encrypted Tensor\n",
    "CrypTen provides a ```crypten.cryptensor``` factory function, similar to ```torch.tensor```, to make creating ```CrypTensors``` easy. \n",
    "\n",
    "Let's create a example ```torch``` tensor, and use it to create a ```CrypTensor```. We can then make sure that the encryption worked correctly, and we get back our original tensor. Alternately, we can also create a ```CrypTensor``` directly from a list or an array, and decrypt it to get back the plaintext data in a ```torch``` tensor. "
   ]
  },
  {
   "cell_type": "code",
   "execution_count": 2,
   "metadata": {},
   "outputs": [
    {
     "name": "stdout",
     "output_type": "stream",
     "text": [
      "tensor([1., 2., 3.])\n"
     ]
    }
   ],
   "source": [
    "#Create torch tensor\n",
    "x = torch.tensor([1.0, 2.0, 3.0])\n",
    "\n",
    "#Create the encrypted version of the tensor\n",
    "x_enc = crypten.cryptensor(x)\n",
    "\n",
    "#Decrypt the tensor to get the plain-text\n",
    "x_dec = x_enc.get_plain_text()\n",
    "print(x_dec)"
   ]
  },
  {
   "cell_type": "code",
   "execution_count": 3,
   "metadata": {},
   "outputs": [
    {
     "name": "stdout",
     "output_type": "stream",
     "text": [
      "tensor([1., 2., 3.])\n"
     ]
    }
   ],
   "source": [
    "#Create CrypTensor directly from data\n",
    "x_enc = crypten.cryptensor([1.0, 2.0, 3.0])\n",
    "\n",
    "#Decrypt the tensor to get the data in plain-text\n",
    "x_dec = x_enc.get_plain_text()\n",
    "print(x_dec)"
   ]
  },
  {
   "cell_type": "markdown",
   "metadata": {},
   "source": [
    "You'll notice that we've used a function called ```get_plain_text``` to decrypt our ```CrypTensors```. We'll go into more detail on when and how this function can be used in Tutorial 3.\n",
    "\n",
    "### Operations on Encrypted Tensors\n",
    "Now let's look at what we can do with our ```CrypTensors```. We can carry out regular arithmetic operations between ```CrypTensors```, as well as between ```CrypTensors``` and plaintext tensors. "
   ]
  },
  {
   "cell_type": "code",
   "execution_count": 4,
   "metadata": {},
   "outputs": [
    {
     "name": "stdout",
     "output_type": "stream",
     "text": [
      "addition: tensor([3., 4., 5.])\n",
      "subtraction: tensor([-1.,  0.,  1.])\n",
      "multiplication: tensor([2., 4., 6.])\n",
      "division: tensor([0.5000, 1.0000, 1.5000])\n"
     ]
    }
   ],
   "source": [
    "#Arithmetic operations between CrypTensors and plaintext tensors\n",
    "y_enc = x_enc + 2\n",
    "print(\"addition:\", y_enc.get_plain_text())\n",
    "\n",
    "y_enc = x_enc - 2\n",
    "print(\"subtraction:\", y_enc.get_plain_text())\n",
    "\n",
    "y_enc = x_enc * 2\n",
    "print(\"multiplication:\", y_enc.get_plain_text())\n",
    "\n",
    "y_enc = x_enc / 2\n",
    "print(\"division:\", y_enc.get_plain_text())"
   ]
  },
  {
   "cell_type": "code",
   "execution_count": 5,
   "metadata": {},
   "outputs": [
    {
     "name": "stdout",
     "output_type": "stream",
     "text": [
      "addition: tensor([3., 4., 5.])\n",
      "subtraction: tensor([-1.,  0.,  1.])\n",
      "multiplication: tensor([2., 4., 6.])\n",
      "division: tensor([0.5000, 1.0000, 1.5000])\n"
     ]
    }
   ],
   "source": [
    "#Arithmetic operations between two CrypTensors\n",
    "y_enc = crypten.cryptensor([2.0])\n",
    "\n",
    "z_enc = x_enc + y_enc\n",
    "print(\"addition:\", z_enc.get_plain_text())\n",
    "\n",
    "z_enc = x_enc - y_enc\n",
    "print(\"subtraction:\", z_enc.get_plain_text())\n",
    "\n",
    "z_enc = x_enc * y_enc\n",
    "print(\"multiplication:\", z_enc.get_plain_text())\n",
    "\n",
    "z_enc = x_enc / y_enc\n",
    "print(\"division:\", z_enc.get_plain_text())"
   ]
  },
  {
   "cell_type": "markdown",
   "metadata": {},
   "source": [
    "Like PyTorch, CrypTen supports both in-place and out-of-place operations.\n",
    "\n",
    "Similarly, we can carry out binary comparisons with ```CrypTensors```. The following examples demonstrate how we do so. A comparison between a ```CrypTensor``` and a plaintext tensor always creates a  ```CrypTensor```. We can then decrypt this ```CrypTensor``` to examine whether the output of the binary comparison is 0 or 1."
   ]
  },
  {
   "cell_type": "code",
   "execution_count": 6,
   "metadata": {},
   "outputs": [
    {
     "name": "stdout",
     "output_type": "stream",
     "text": [
      "comparison output encrypted check: True\n",
      "comparison 2 < 4: tensor([1.])\n",
      "\n",
      "comparison output encrypted check: True\n",
      "comparison 2 < 4: tensor([1.])\n",
      "\n",
      "comparison output encrypted check: True\n",
      "comparison 2 > 4: tensor([0.])\n"
     ]
    }
   ],
   "source": [
    "#Construct two example CrypTensors\n",
    "x = torch.tensor([2.0])\n",
    "x_enc = crypten.cryptensor(x)\n",
    "y = torch.tensor([4.0])\n",
    "y_enc = crypten.cryptensor(y)\n",
    "\n",
    "#Comparison between CrypTensor/plaintext tensor\n",
    "comp1 = x_enc < y\n",
    "print(\"comparison output encrypted check:\", crypten.is_encrypted_tensor(comp1))\n",
    "print(\"comparison 2 < 4:\", comp1.get_plain_text())\n",
    "print()\n",
    " \n",
    "#Comparison between CrypTensor/CrypTensor\n",
    "comp2 = (x_enc < y_enc)\n",
    "print(\"comparison output encrypted check:\", crypten.is_encrypted_tensor(comp2))\n",
    "print(\"comparison 2 < 4:\", comp2.get_plain_text())\n",
    "print()\n",
    "\n",
    "#Comparison between CrypTensor/CrypTensor\n",
    "comp3 = (x_enc > y_enc)\n",
    "print(\"comparison output encrypted check:\", crypten.is_encrypted_tensor(comp3))\n",
    "print(\"comparison 2 > 4:\", comp3.get_plain_text())"
   ]
  },
  {
   "cell_type": "markdown",
   "metadata": {},
   "source": [
    "Note that ```CrypTensors``` cannot be used directly in conditional expressions! Because the tensor is encrypted, the boolean expression cannot be evaluated. The ```CrypTensor``` always needs to be decrypted before evaluation in control-flow logic.\n",
    "\n",
    "The following example illustrates how we can rewrite control-flow logic for ```CrypTensors```."
   ]
  },
  {
   "cell_type": "code",
   "execution_count": 7,
   "metadata": {},
   "outputs": [
    {
     "name": "stdout",
     "output_type": "stream",
     "text": [
      "The plaintext value of z: tensor([2.])\n"
     ]
    }
   ],
   "source": [
    "a, b = 2, 3\n",
    "\n",
    "#unencrypted\n",
    "if x < y:\n",
    "    z = a\n",
    "else:\n",
    "    z = b\n",
    "\n",
    "#encrypted\n",
    "use_a = (x_enc < y_enc)\n",
    "z_enc = use_a * a + (1 - use_a) * b\n",
    "z = z_enc.get_plain_text()\n",
    "print(\"The plaintext value of z:\", z)"
   ]
  },
  {
   "cell_type": "markdown",
   "metadata": {},
   "source": [
    "One item to note in using ```CrypTensors```: For all arithmetic/binary operations involving ```CrypTensors```, the first operand <b>must</b> be a ```CrypTensor```. That is, for a ```CrypTensor```, ```x_enc``` and a plaintext tensor ```y```:\n",
    "<ul>\n",
    "<li>the expression ```x_enc < y``` is valid, but the mathematically equivalent expression ```y > x_enc``` will result in an error in CrypTen.</li>\n",
    "<li>the statement ```x_enc + y``` is a valid operation in CrypTen, but the equivalent statement ```y + x_enc``` will result in an error.</li>\n",
    "</ul>\n",
    "\n",
    "CrypTen supports many of the operations that work on ```torch``` tensors. For example, we can stack ```CrypTensors```, reshape them, or get their sizes."
   ]
  },
  {
   "cell_type": "code",
   "execution_count": 8,
   "metadata": {},
   "outputs": [
    {
     "name": "stdout",
     "output_type": "stream",
     "text": [
      "Stack operation:\n",
      "Result tensor encrypted:  True\n",
      "Result tensor plaintext:\n",
      " tensor([[1., 2., 3.],\n",
      "        [4., 5., 6.]])\n",
      "\n",
      "Reshape operation:\n",
      "Result tensor encrypted:  True\n",
      "Result tensor plaintext:\n",
      " tensor([[1., 2., 3., 4., 5., 6.]])\n",
      "\n",
      "Sizes of CrypTensors:\n",
      "z_enc torch.Size([2, 3])\n",
      "w_enc torch.Size([1, 6])\n"
     ]
    }
   ],
   "source": [
    "x_enc = crypten.cryptensor([1.0, 2.0, 3.0])\n",
    "y_enc = crypten.cryptensor([4.0, 5.0, 6.0])\n",
    "\n",
    "z_enc = crypten.stack([x_enc, y_enc])\n",
    "print('Stack operation:')\n",
    "print('Result tensor encrypted: ', crypten.is_encrypted_tensor(z_enc))\n",
    "print('Result tensor plaintext:\\n', z_enc.get_plain_text())\n",
    "print()\n",
    "\n",
    "w_enc = z_enc.reshape([-1,6])\n",
    "print('Reshape operation:')\n",
    "print('Result tensor encrypted: ', crypten.is_encrypted_tensor(w_enc))\n",
    "print('Result tensor plaintext:\\n', w_enc.get_plain_text())\n",
    "print()\n",
    "\n",
    "print('Sizes of CrypTensors:')\n",
    "print('z_enc', z_enc.size())\n",
    "print('w_enc', w_enc.size())"
   ]
  },
  {
   "cell_type": "markdown",
   "metadata": {},
   "source": [
    "For a complete list of all supported operations, please refer to the CrypTen documentation."
   ]
  }
 ],
 "metadata": {
  "bento_stylesheets": {
   "bento/extensions/flow/main.css": true,
   "bento/extensions/kernel_selector/main.css": true,
   "bento/extensions/kernel_ui/main.css": true,
   "bento/extensions/new_kernel/main.css": true,
   "bento/extensions/system_usage/main.css": true,
   "bento/extensions/theme/main.css": true
  },
  "disseminate_notebook_id": {
   "notebook_id": "725388727904365"
  },
  "disseminate_notebook_info": {
   "bento_version": "20190826-030256",
   "description": "sample tutorial",
   "hide_code": false,
   "hipster_group": "",
   "kernel_build_info": {
    "error": "The file located at '/data/users/shobha/fbsource/fbcode/bento/kernels/local/cryptenk/TARGETS' could not be found."
   },
   "no_uii": true,
   "notebook_number": "137810",
   "others_can_edit": true,
   "reviewers": "",
   "revision_id": "1879678125468666",
   "tags": "",
   "tasks": "",
   "title": "Tutorial 1 -- Basics of Secure MPC Tensors"
  },
  "kernelspec": {
   "display_name": "Python 3",
   "language": "python",
   "name": "python3"
  },
  "language_info": {
   "codemirror_mode": {
    "name": "ipython",
    "version": 3
   },
   "file_extension": ".py",
   "mimetype": "text/x-python",
   "name": "python",
   "nbconvert_exporter": "python",
   "pygments_lexer": "ipython3",
   "version": "3.6.3"
  }
 },
 "nbformat": 4,
 "nbformat_minor": 2
}
