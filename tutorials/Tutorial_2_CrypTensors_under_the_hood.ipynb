{
 "cells": [
  {
   "cell_type": "markdown",
   "metadata": {},
   "source": [
    "In this tutorial, we will take a brief look at the internals of ```CrypTensors```. \n",
    "\n",
    "This tutorial is optional, and can be skipped without any loss of continuity to the following tutorials."
   ]
  },
  {
   "cell_type": "code",
   "execution_count": 1,
   "metadata": {},
   "outputs": [],
   "source": [
    "#import the libraries\n",
    "import crypten\n",
    "import torch\n",
    "\n",
    "#initialize crypten\n",
    "crypten.init()"
   ]
  },
  {
   "cell_type": "markdown",
   "metadata": {
    "collapsed": true
   },
   "source": [
    "A `CrypTensor` is a tensor encrypted using secure MPC protocols, called `MPCTensor`, since we use secure MPC as the cryptographic protocol in CrypTen currently. (We plan to support additional cryptographic protocols for privacy-preserving machine learning in the future, and when we do so, a `CrypTensor` will be a tensor encrypted with any of those protocols.)\n",
    "\n",
    "In order to support the mathematical operations required by the `MPCTensor`, CrypTen implements two kinds of secret-sharing protocols: arithmetic (or additive) secret-sharing and binary (or XOR) secret-sharing. Arithmetic secret sharing forms the basis of most of the mathematical operations implemented by `MPCTensor`. On the other hand, binary secret-sharing allows greater efficiency in evaluating logical expressions. \n",
    "\n",
    "`MPCTensors` encrypted with arithmetic secret-sharing are internally `ArithmeticSharedTensors`. `MPCTensors` encrypted with binary secret-sharing are internally `BinarySharedTensors`. \n",
    "\n",
    "In this tutorial, we'll first introduce the concept of a `CrypTensor` `ptype` (for <i>private-type</i>), and show how to use it to obtain `ArithmeticSharedTensors` and `BinarySharedTensors`. We'll then look more closely at operations supported by `ArithmeticSharedTensor` and `BinarySharedTensor`. Finally, we'll describe how CrypTen handles an operation that needs to use both types of secret-sharing for its tensors.\n",
    "\n",
    "\n",
    "### <i>ptype</i> in CrypTen\n",
    "CrypTen defines the `ptype` (for <i>private-type</i>) attribute of a `CrypTensor` to denote the kind of secret-sharing protocol used in the `CrypTensor`. The `ptype` is, in many ways, analogous to the `dtype` of PyTorch. The `ptype` may have two values: \n",
    "<ul>\n",
    "<li>`crypten.arithmetic` for `ArithmeticSharedTensors`</li>\n",
    "<li>`crypten.binary` for  `BinarySharedTensors`</li>\n",
    "</ul>\n",
    "We can use the `ptype` attribute to create a `CrypTensor` with the appropriate secret-sharing protocol. For example: "
   ]
  },
  {
   "cell_type": "code",
   "execution_count": 2,
   "metadata": {},
   "outputs": [
    {
     "name": "stdout",
     "output_type": "stream",
     "text": [
      "x_enc internal type: ptype.arithmetic\n",
      "y_enc internal type: ptype.binary\n"
     ]
    }
   ],
   "source": [
    "#Constructing CrypTensors with ptype attribute\n",
    "\n",
    "#arithmetic secret-shared tensors\n",
    "x_enc = crypten.cryptensor([1.0, 2.0, 3.0], ptype=crypten.arithmetic)\n",
    "print(\"x_enc internal type:\", x_enc.ptype)\n",
    "\n",
    "#binary secret-shared tensors\n",
    "y = torch.tensor([1, 2, 1], dtype=torch.int32)\n",
    "y_enc = crypten.cryptensor(y, ptype=crypten.binary)\n",
    "print(\"y_enc internal type:\", y_enc.ptype)"
   ]
  },
  {
   "cell_type": "markdown",
   "metadata": {},
   "source": [
    "### ArithmeticSharedTensor\n",
    "Let's now look more closely at the ```ArithmeticSharedTensor```. The ```ArithmeticSharedTensor``` implements arithmetic secret sharing, which forms the basis of most of the mathematical operations implemented by ```MPCTensor```. The creation of an ```ArithmeticSharedTensor``` and its use in arithmetic operations is similar to what we've seen in Tutorial 1. There is, however, one difference to note: division of an ```ArithmeticSharedTensor``` requires the divisor to be a plaintext tensor, due to the range of operations supported by an ```ArithmeticSharedTensor```."
   ]
  },
  {
   "cell_type": "code",
   "execution_count": 3,
   "metadata": {},
   "outputs": [
    {
     "name": "stdout",
     "output_type": "stream",
     "text": [
      "addition: tensor([3., 4., 5.])\n",
      "subtraction: tensor([-1.,  0.,  1.])\n",
      "multiplication: tensor([2., 4., 6.])\n",
      "division:  tensor([0.5000, 1.0000, 1.5000])\n"
     ]
    }
   ],
   "source": [
    "from crypten.mpc.primitives import ArithmeticSharedTensor \n",
    "\n",
    "#creating an ArithmeticSharedTensor\n",
    "x_enc = ArithmeticSharedTensor([1, 2, 3])\n",
    "\n",
    "#operations with plaintext tensors\n",
    "y_enc = x_enc + 2\n",
    "print(\"addition:\", y_enc.get_plain_text())\n",
    "\n",
    "y_enc = x_enc - 2\n",
    "print(\"subtraction:\", y_enc.get_plain_text())\n",
    "\n",
    "y_enc = x_enc * 2\n",
    "print(\"multiplication:\", y_enc.get_plain_text())\n",
    "\n",
    "y_enc = x_enc / 2\n",
    "print(\"division: \", y_enc.get_plain_text())"
   ]
  },
  {
   "cell_type": "code",
   "execution_count": 4,
   "metadata": {},
   "outputs": [
    {
     "name": "stdout",
     "output_type": "stream",
     "text": [
      "addition: tensor([3., 4., 5.])\n",
      "subtraction: tensor([-1.,  0.,  1.])\n",
      "multiplication: tensor([2., 4., 6.])\n"
     ]
    }
   ],
   "source": [
    "#operations with encrypted tensors\n",
    "y_enc = ArithmeticSharedTensor([2])\n",
    "\n",
    "z_enc = x_enc + y_enc\n",
    "print(\"addition:\", z_enc.get_plain_text())\n",
    "\n",
    "z_enc = x_enc - y_enc\n",
    "print(\"subtraction:\", z_enc.get_plain_text())\n",
    "\n",
    "z_enc = x_enc * y_enc\n",
    "print(\"multiplication:\", z_enc.get_plain_text())"
   ]
  },
  {
   "cell_type": "markdown",
   "metadata": {},
   "source": [
    "How do we know the `ArithmeticSharedTensor` does not directly contain our plaintext tensor? We'll look inside the tensor held by an `ArithmeticSharedTensor` to see this, but first, we need to understand a little more about how encryption works in CrypTen.\n",
    "\n",
    "CrypTen follows the standard MPI programming model: it runs a separate process for each party, but each process runs the identical (complete) program. Each process has a `rank` variable to identify itself. If a process rank `i` owns (and loads) the plaintext data `x`, then `x` gets encrypted with `i` as its source value (denoted as `src`). (This allows process rank `i` will generate the secret shares of `x`, and communicate them to all the other processes.)\n",
    "\n",
    "In the next example, we'll show how to use the `rank` and `src` values to encrypt tensors. After we encrypt each tensor, we'll use the attribute `.share` to access the data in the encrypted tensor.\n",
    "\n",
    "<i>(Technical note: Since Jupyter notebooks only run a single process, we use a custom decorator `mpc.run_multiprocess` to simulate a multi-party world in our notebooks.)</i>"
   ]
  },
  {
   "cell_type": "code",
   "execution_count": 5,
   "metadata": {},
   "outputs": [
    {
     "name": "stdout",
     "output_type": "stream",
     "text": [
      "Rank 0: Plaintext: tensor([1, 2, 3])\n",
      "Rank 1: Plaintext: tensor([1, 2, 3])\n",
      "Rank 1: x_enc share: tensor([6507446633756756391, 8933045155855769194, 4941929691160179679])\n",
      "Rank 0: x_enc share: tensor([-6507446633756690855, -8933045155855638122, -4941929691159983071])\n",
      "Rank 1: y_enc share: tensor([  422154116776664286,  6094858192667170110, -8250182259831619938])\n",
      "Rank 0: y_enc share: tensor([ -422154116776598750, -6094858192667039038,  8250182259831816546])\n"
     ]
    }
   ],
   "source": [
    "import crypten.mpc as mpc\n",
    "import crypten.communicator as comm #Crypten communicator, used to access rank\n",
    " \n",
    "@mpc.run_multiprocess(world_size=2)\n",
    "def examine_arithmetic_shares():\n",
    "    z = torch.tensor([1, 2, 3])\n",
    "    \n",
    "    rank = comm.get().get_rank()\n",
    "    print(f\"Rank {rank}: Plaintext:\", z)\n",
    "    \n",
    "    #encrypting the plaintext tensor z:    \n",
    "    #for rank 0 process:\n",
    "    x_enc = ArithmeticSharedTensor(z, src=0)\n",
    "    #for rank 1 process: \n",
    "    y_enc = ArithmeticSharedTensor(z, src=1)\n",
    "    \n",
    "    #access the tensor inside the ArithmeticSharedTensor\n",
    "    print(f\"Rank {rank}: x_enc share:\", x_enc.share)\n",
    "    print(f\"Rank {rank}: y_enc share:\", y_enc.share)\n",
    "        \n",
    "x = examine_arithmetic_shares()"
   ]
  },
  {
   "cell_type": "markdown",
   "metadata": {},
   "source": [
    "Note that the two shares of `x_enc`  are not the plaintext tensor `z`, and neither are the shares of `y_enc`. Further, note the shares created for `z` are different in `x_enc` and in `y_enc`. This is because we used `src=0` to create `x_enc`, and `src=1` to create `y_enc`. So, process 0 creates the secret shares for `z` in `x_enc` using its (secret) random seed, and provides process 1 its share of `x_enc`. Likewise, in the next step, process 1 (separately) creates the secret shares for `z` in `y_enc` using its (different, secret) random seed, and provides process 0 its share of `y_enc`. \n",
    "\n",
    "This concludes our overview of ```ArithmeticSharedTensors```. Next, we'll look at ```BinarySharedTensors```.\n",
    "<br>\n",
    "### BinarySharedTensors\n",
    "The second type of secret-sharing implemented in CrypTen is binary or XOR secret-sharing. This type of secret-sharing allows greater efficiency in evaluating logical expressions. \n",
    "\n",
    "We can create a ```BinarySharedTensor``` just as we did an ```ArithmeticSharedTensor```. However, the ```BinarySharedTensor``` supports binary logical operations, rather than arithmetic operations. Thus, for example: "
   ]
  },
  {
   "cell_type": "code",
   "execution_count": 6,
   "metadata": {},
   "outputs": [
    {
     "name": "stdout",
     "output_type": "stream",
     "text": [
      "XOR operation: tensor([2, 1, 0])\n",
      "AND operation: tensor([1, 2, 3])\n",
      "OR operation: tensor([3, 3, 3])\n"
     ]
    }
   ],
   "source": [
    "from crypten.mpc.primitives import BinarySharedTensor\n",
    "\n",
    "#creating a BinarySharedTensor. \n",
    "x = torch.tensor([1, 2, 3])\n",
    "x_enc = BinarySharedTensor(x)\n",
    "\n",
    "#operations between BinarySharedTensor/plaintext tensors\n",
    "y_enc = x_enc ^ 3\n",
    "print(\"XOR operation:\", y_enc.get_plain_text())\n",
    "\n",
    "y_enc = x_enc & 3\n",
    "print(\"AND operation:\", y_enc.get_plain_text())\n",
    "\n",
    "y_enc = x_enc | 3\n",
    "print(\"OR operation:\", y_enc.get_plain_text())"
   ]
  },
  {
   "cell_type": "code",
   "execution_count": 7,
   "metadata": {},
   "outputs": [
    {
     "name": "stdout",
     "output_type": "stream",
     "text": [
      "XOR operation: tensor([5, 3, 0])\n",
      "AND operation: tensor([0, 0, 3])\n",
      "OR operation: tensor([5, 3, 3])\n"
     ]
    }
   ],
   "source": [
    "#creating a second BinarySharedTensor\n",
    "y = torch.tensor([4, 1, 3], dtype=torch.int32)\n",
    "y_enc = BinarySharedTensor(y)\n",
    "\n",
    "#operations between two BinarySharedTensors\n",
    "z_enc = x_enc ^ y_enc\n",
    "print(\"XOR operation:\", z_enc.get_plain_text())\n",
    "\n",
    "z_enc = x_enc & y_enc\n",
    "print(\"AND operation:\", z_enc.get_plain_text())\n",
    "\n",
    "z_enc = x_enc | y_enc\n",
    "print(\"OR operation:\", z_enc.get_plain_text())"
   ]
  },
  {
   "cell_type": "markdown",
   "metadata": {},
   "source": [
    "As we did with the `ArithmeticSharedTensor`, we can look into the `BinarySharedTensor` to see that it does not actually keep the plaintext tensor. We can access the tensor held by the `BinarySharedTensor` with the `.share` attribute. As we saw with the `ArithmeticSharedTensors`, in a multi-party world, each process will need to encrypt its data with its own `rank`. Notice that once again, the shares in `x_enc` and `y_enc` are distinct from each other."
   ]
  },
  {
   "cell_type": "code",
   "execution_count": 8,
   "metadata": {},
   "outputs": [
    {
     "name": "stdout",
     "output_type": "stream",
     "text": [
      "Rank 1: Plaintext: tensor([1, 2, 3], dtype=torch.int32)\n",
      "Rank 0: Plaintext: tensor([1, 2, 3], dtype=torch.int32)\n",
      "Rank 0: x_enc share: tensor([-5329831728445400837,  3124917732480312484, -5598881425843780996])\n",
      "Rank 1: x_enc share: tensor([-5329831728445400838,  3124917732480312486, -5598881425843780993])\n",
      "Rank 0: y_enc share: tensor([ -505704474185003628, -8732970886542952507, -3492699824048994491])\n",
      "Rank 1: y_enc share: tensor([ -505704474185003627, -8732970886542952505, -3492699824048994490])\n"
     ]
    }
   ],
   "source": [
    "from crypten.mpc.primitives import BinarySharedTensor\n",
    "\n",
    "@mpc.run_multiprocess(world_size=2)\n",
    "def examine_binary_tensor():\n",
    "    \n",
    "    z = torch.tensor([1, 2, 3], dtype=torch.int32)\n",
    "    \n",
    "    rank = comm.get().get_rank()\n",
    "    print(f\"Rank {rank}: Plaintext:\", z)\n",
    "\n",
    "    #Encrypt as BinarySharedTensor:\n",
    "    #for rank 0 process\n",
    "    x_enc = BinarySharedTensor(z, src=0)   \n",
    "    #for rank 1 process\n",
    "    y_enc = BinarySharedTensor(z, src=1)\n",
    "\n",
    "    #access the tensor inside the BinarySharedTensor\n",
    "    print(f\"Rank {rank}: x_enc share:\", x_enc.share)\n",
    "    print(f\"Rank {rank}: y_enc share:\", y_enc.share)\n",
    "    \n",
    "x = examine_binary_tensor()"
   ]
  },
  {
   "cell_type": "markdown",
   "metadata": {},
   "source": [
    "### Using Both Secret-sharing Protocols\n",
    "Quite often a mathematical function may need to use both additive and XOR secret sharing for efficient evaluation. CrypTen provides functionality that allows for the conversion of `ArithmeticSharedTensor` to `BinarySharedTensor` and vice-versa."
   ]
  },
  {
   "cell_type": "code",
   "execution_count": 9,
   "metadata": {},
   "outputs": [
    {
     "name": "stdout",
     "output_type": "stream",
     "text": [
      "Rank 0: Plaintext: tensor([1, 2, 3])\n",
      "Rank 1: Plaintext: tensor([1, 2, 3])\n",
      "\n",
      "\n",
      "Rank 0: Initial encrypted type: ptype.arithmetic\n",
      "Rank 1: Initial encrypted type: ptype.arithmetic\n",
      "Rank 0: ArithmeticSharedTensor value: tensor([ 7894822374111859623,  8363996642151064510, -2167477811202486943])\n",
      "Rank 1: ArithmeticSharedTensor value: tensor([-7894822374111794087, -8363996642150933438,  2167477811202683551])\n",
      "\n",
      "\n",
      "Rank 1: After conversion: ptype.binary\n",
      "Rank 0: After conversion: ptype.binary\n",
      "Rank 1: BinarySharedTensor value: tensor([ 8912641549483668076,  1784415293112309463, -4818247685583860145])\n",
      "Rank 0: BinarySharedTensor value: tensor([ 8912641549483733612,  1784415293112178391, -4818247685583794609])\n",
      "\n",
      "\n",
      "Rank 1: Decrypted: tensor([1., 2., 3.])\n",
      "Rank 0: Decrypted: tensor([1., 2., 3.])\n"
     ]
    }
   ],
   "source": [
    "from crypten.mpc import MPCTensor\n",
    "\n",
    "@mpc.run_multiprocess(world_size=2)\n",
    "def examine_conversion():\n",
    "  \n",
    "    #plaintext tensor\n",
    "    x = torch.tensor([1, 2, 3])\n",
    "    \n",
    "    rank = comm.get().get_rank()\n",
    "    \n",
    "    print(f\"Rank {rank}: Plaintext:\", x)\n",
    "    print()\n",
    "\n",
    "    #create an MPCTensor with arithmetic secret sharing\n",
    "    x_enc_arithmetic = MPCTensor(x, ptype=crypten.arithmetic, src=0)\n",
    "    print(f\"Rank {rank}: Initial encrypted type:\", x_enc_arithmetic.ptype)\n",
    "    print(f\"Rank {rank}: ArithmeticSharedTensor value:\", x_enc_arithmetic.share)\n",
    "    print()\n",
    "\n",
    "    #convert the MPCTensor with binary secret sharing\n",
    "    x_enc_binary = x_enc_arithmetic.binary()\n",
    "    print(f\"Rank {rank}: After conversion:\", x_enc_binary.ptype)\n",
    "    print(f\"Rank {rank}: BinarySharedTensor value:\", x_enc_binary.share)\n",
    "    print()\n",
    "\n",
    "    #Decrypting the converted tensor yields the original tensor\n",
    "    x_decrypted = x_enc_binary.get_plain_text()\n",
    "    print(f\"Rank {rank}: Decrypted:\", x_decrypted)\n",
    "        \n",
    "z = examine_conversion()"
   ]
  },
  {
   "cell_type": "markdown",
   "metadata": {},
   "source": [
    "Thus, even with conversions between `ArithmeticSharedTensors` and `BinarySharedTensors`, CrypTen correctly decrypts the tensor.\n",
    "\n",
    "For the algorithms that convert between `ArithmeticSharedTensors` and `BinarySharedTensors`, as well as examples of mathematical functions that require such conversion, please see the CrypTen documentation."
   ]
  }
 ],
 "metadata": {
  "bento_stylesheets": {
   "bento/extensions/flow/main.css": true,
   "bento/extensions/kernel_selector/main.css": true,
   "bento/extensions/kernel_ui/main.css": true,
   "bento/extensions/new_kernel/main.css": true,
   "bento/extensions/system_usage/main.css": true,
   "bento/extensions/theme/main.css": true
  },
  "disseminate_notebook_id": {
   "notebook_id": "429484050998746"
  },
  "disseminate_notebook_info": {
   "bento_version": "20190826-030256",
   "description": "",
   "hide_code": false,
   "hipster_group": "",
   "kernel_build_info": {
    "error": "The file located at '/data/users/shobha/fbsource/fbcode/bento/kernels/local/cryptenk/TARGETS' could not be found."
   },
   "no_uii": true,
   "notebook_number": "138165",
   "others_can_edit": true,
   "reviewers": "",
   "revision_id": "423050271652899",
   "tags": "",
   "tasks": "",
   "title": "Tutorial 2 -- MPCTensors under the hood"
  },
  "kernelspec": {
   "display_name": "Python 3",
   "language": "python",
   "name": "python3"
  },
  "language_info": {
   "codemirror_mode": {
    "name": "ipython",
    "version": 3
   },
   "file_extension": ".py",
   "mimetype": "text/x-python",
   "name": "python",
   "nbconvert_exporter": "python",
   "pygments_lexer": "ipython3",
   "version": "3.6.3"
  }
 },
 "nbformat": 4,
 "nbformat_minor": 2
}
