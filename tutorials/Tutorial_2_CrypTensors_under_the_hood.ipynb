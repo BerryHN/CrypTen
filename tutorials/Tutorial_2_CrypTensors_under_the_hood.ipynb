{
 "cells": [
  {
   "cell_type": "markdown",
   "metadata": {},
   "source": [
    "In this tutorial, we will take a brief look at the internals of ```CrypTensors```. \n",
    "\n",
    "This tutorial is optional, and can be skipped without any loss of continuity to the following tutorials."
   ]
  },
  {
   "cell_type": "code",
   "execution_count": 1,
   "metadata": {},
   "outputs": [
    {
     "name": "stderr",
     "output_type": "stream",
     "text": [
      "INFO:root:==================\n",
      "INFO:root:DistributedCommunicator with rank 0\n",
      "INFO:root:==================\n",
      "INFO:root:World size = 1\n"
     ]
    }
   ],
   "source": [
    "#import the libraries\n",
    "import crypten\n",
    "import torch"
   ]
  },
  {
   "cell_type": "markdown",
   "metadata": {
    "collapsed": true
   },
   "source": [
    "Currently, a ```CrypTensor``` is always a tensor encrypted using secure MPC protocols, called ```MPCTensor```. In order to support the mathematical operations required by the ```MPCTensor```, CrypTen implements two kinds of secret-sharing protocols: arithmetic (or additive) secret-sharing and binary (or XOR) secret-sharing. Arithmetic secret sharing forms the basis of most of the mathematical operations implemented by ```MPCTensor```. On the other hand, binary secret-sharing allows greater efficiency in evaluating logical expressions. \n",
    "\n",
    "```MPCTensors``` encrypted with arithmetic secret-sharing are internally ```ArithmeticSharedTensors```. ```MPCTensors``` encrypted with binary secret-sharing are internally ```BinarySharedTensors```. \n",
    "\n",
    "In this tutorial, we'll first introduce the concept of a ```CrypTensor``` ```ptype``` (for <i>private-type</i>), and show how to use it to obtain ```ArithmeticSharedTensors``` and ```BinarySharedTensors```. We'll then look more closely at operations supported by ```ArithmeticSharedTensor``` and ```BinarySharedTensor```. Finally, we'll describe how CrypTen handles an operation that needs to use both types of secret-sharing for its tensors.\n",
    "\n",
    "\n",
    "### <i>ptype</i> in CrypTen\n",
    "CrypTen defines the ```ptype``` (for <i>private-type</i>) attribute of a ```CrypTensor``` to denote the kind of secret-sharing protocol used in the ```CrypTensor```. The ```ptype``` is, in many ways, analogous to the ```dtype``` of PyTorch. The ```ptype``` may have two values: \n",
    "<ul>\n",
    "<li>```crypten.arithmetic``` for ```ArithmeticSharedTensors```</li>\n",
    "<li>```crypten.binary``` for  ```BinarySharedTensors```</li>\n",
    "</ul>\n",
    "We can use the ```ptype``` attribute to create a ```CrypTensor``` with the appropriate secret-sharing protocol. For example: "
   ]
  },
  {
   "cell_type": "code",
   "execution_count": 2,
   "metadata": {},
   "outputs": [
    {
     "name": "stdout",
     "output_type": "stream",
     "text": [
      "x_enc type: <class 'crypten.mpc.mpc.MPCTensor'>\n",
      "x_enc internal type: <class 'crypten.mpc.primitives.arithmetic.ArithmeticSharedTensor'>\n",
      "\n",
      "y_enc object type: <class 'crypten.mpc.mpc.MPCTensor'>\n",
      "y_enc internal type: <class 'crypten.mpc.primitives.binary.BinarySharedTensor'>\n"
     ]
    }
   ],
   "source": [
    "#Constructing CrypTensors with ptype attribute\n",
    "\n",
    "#arithmetic secret-shared tensors\n",
    "x_enc = crypten.cryptensor([1.0, 2.0, 3.0], ptype=crypten.arithmetic)\n",
    "print(\"x_enc type:\", type(x_enc))\n",
    "print(\"x_enc internal type:\", type(x_enc._tensor))\n",
    "print()\n",
    "\n",
    "#binary secret-shared tensors\n",
    "#TODO: this will change to be analogous to arithmetic secret-shared tensors after removal of assertion\n",
    "y = torch.tensor([1, 2, 1], dtype=torch.int32)\n",
    "y_enc = crypten.cryptensor(y, ptype=crypten.binary)\n",
    "print(\"y_enc object type:\", type(y_enc))\n",
    "print(\"y_enc internal type:\", type(y_enc._tensor))"
   ]
  },
  {
   "cell_type": "markdown",
   "metadata": {},
   "source": [
    "### ArithmeticSharedTensor\n",
    "Let's now look more closely at the ```ArithmeticSharedTensor```. The ```ArithmeticSharedTensor``` implements arithmetic secret sharing, which forms the basis of most of the mathematical operations implemented by ```MPCTensor```. The creation of an ```ArithmeticSharedTensor``` and its use in arithmetic operations is similar to what we've seen in Tutorial 1."
   ]
  },
  {
   "cell_type": "code",
   "execution_count": 3,
   "metadata": {},
   "outputs": [
    {
     "name": "stdout",
     "output_type": "stream",
     "text": [
      "addition: tensor([3., 4., 5.])\n",
      "subtraction: tensor([-1.,  0.,  1.])\n",
      "multiplication: tensor([2., 4., 6.])\n",
      "division:  tensor([0.5000, 1.0000, 1.5000])\n"
     ]
    }
   ],
   "source": [
    "from crypten.mpc.primitives import ArithmeticSharedTensor \n",
    "\n",
    "#creating an ArithmeticSharedTensor\n",
    "x_enc = ArithmeticSharedTensor([1, 2, 3])\n",
    "\n",
    "#operations with plaintext tensors\n",
    "y_enc = x_enc + 2\n",
    "print(\"addition:\", y_enc.get_plain_text())\n",
    "\n",
    "y_enc = x_enc - 2\n",
    "print(\"subtraction:\", y_enc.get_plain_text())\n",
    "\n",
    "y_enc = x_enc * 2\n",
    "print(\"multiplication:\", y_enc.get_plain_text())\n",
    "\n",
    "y_enc = x_enc / 2\n",
    "print(\"division: \", y_enc.get_plain_text())"
   ]
  },
  {
   "cell_type": "code",
   "execution_count": 4,
   "metadata": {},
   "outputs": [
    {
     "name": "stdout",
     "output_type": "stream",
     "text": [
      "addition: tensor([3., 4., 5.])\n",
      "subtraction: tensor([-1.,  0.,  1.])\n",
      "multiplication: tensor([2., 4., 6.])\n",
      "division: tensor([0.5000, 1.0000, 1.5000])\n"
     ]
    }
   ],
   "source": [
    "#operations with encrypted tensors\n",
    "y_enc = ArithmeticSharedTensor([2])\n",
    "\n",
    "z_enc = x_enc + y_enc\n",
    "print(\"addition:\", z_enc.get_plain_text())\n",
    "\n",
    "z_enc = x_enc - y_enc\n",
    "print(\"subtraction:\", z_enc.get_plain_text())\n",
    "\n",
    "z_enc = x_enc * y_enc\n",
    "print(\"multiplication:\", z_enc.get_plain_text())\n",
    "\n",
    "z_enc = x_enc / y_enc\n",
    "print(\"division:\", z_enc.get_plain_text())"
   ]
  },
  {
   "cell_type": "markdown",
   "metadata": {},
   "source": [
    "How do we know the ```ArithmeticSharedTensor``` does not directly contain our plaintext tensor? Let's look at the tensor held by an ```ArithmeticSharedTensor```."
   ]
  },
  {
   "cell_type": "code",
   "execution_count": 5,
   "metadata": {},
   "outputs": [
    {
     "name": "stdout",
     "output_type": "stream",
     "text": [
      "Plaintext tensor: tensor([4, 5, 6])\n",
      "Encrypted tensor: tensor([262144, 327680, 393216])\n"
     ]
    }
   ],
   "source": [
    "x = torch.tensor([4, 5, 6])\n",
    "print(\"Plaintext tensor:\", x)\n",
    "\n",
    "#encrypting the plaintext tensor x\n",
    "x_enc = ArithmeticSharedTensor(x)\n",
    "\n",
    "#print tensor inside the ArithmeticSharedTensor x_enc\n",
    "print(\"Encrypted tensor:\", x_enc._tensor)"
   ]
  },
  {
   "cell_type": "markdown",
   "metadata": {},
   "source": [
    "We see that the tensor held by ```x_enc``` is not the plaintext tensor ```x```!\n",
    "\n",
    "This concludes our overview of ```ArithmeticSharedTensors```. Next, we'll look at ```BinarySharedTensors```.\n",
    "<br>\n",
    "### BinarySharedTensors\n",
    "The second type of secret-sharing implemented in CrypTen is binary or XOR secret-sharing. This type of secret-sharing allows greater efficiency in evaluating logical expressions. \n",
    "\n",
    "We can create a ```BinarySharedTensor``` just as we did an ```ArithmeticSharedTensor```. However, the ```BinarySharedTensor``` supports binary logical operations, rather than arithmetic operations. Thus, for example: "
   ]
  },
  {
   "cell_type": "code",
   "execution_count": 6,
   "metadata": {},
   "outputs": [
    {
     "name": "stdout",
     "output_type": "stream",
     "text": [
      "XOR operation: tensor([3, 0, 3])\n",
      "AND operation: tensor([0, 2, 0])\n",
      "OR operation: tensor([3, 2, 3])\n"
     ]
    }
   ],
   "source": [
    "from crypten.mpc.primitives import BinarySharedTensor\n",
    "\n",
    "#creating a BinarySharedTensor. TODO: fix after assertion removed.\n",
    "x = torch.tensor([1, 2, 1], dtype=torch.int32)\n",
    "x_enc = BinarySharedTensor(x)\n",
    "\n",
    "#operations between BinarySharedTensor/plaintext tensors\n",
    "y_enc = x_enc ^ 2\n",
    "print(\"XOR operation:\", y_enc.get_plain_text())\n",
    "\n",
    "y_enc = x_enc & 2\n",
    "print(\"AND operation:\", y_enc.get_plain_text())\n",
    "\n",
    "y_enc = x_enc | 2\n",
    "print(\"OR operation:\", y_enc.get_plain_text())"
   ]
  },
  {
   "cell_type": "code",
   "execution_count": 7,
   "metadata": {},
   "outputs": [
    {
     "name": "stdout",
     "output_type": "stream",
     "text": [
      "XOR operation: tensor([3, 3, 3])\n",
      "AND operation: tensor([0, 0, 0])\n",
      "OR operation: tensor([3, 3, 3])\n"
     ]
    }
   ],
   "source": [
    "#creating a second BinarySharedTensor\n",
    "y = torch.tensor([2, 1, 2], dtype=torch.int32)\n",
    "y_enc = BinarySharedTensor(y)\n",
    "\n",
    "#operations between two BinarySharedTensors\n",
    "z_enc = x_enc ^ y_enc\n",
    "print(\"XOR operation:\", z_enc.get_plain_text())\n",
    "\n",
    "z_enc = x_enc & y_enc\n",
    "print(\"AND operation:\", z_enc.get_plain_text())\n",
    "\n",
    "z_enc = x_enc | y_enc\n",
    "print(\"OR operation:\", z_enc.get_plain_text())"
   ]
  },
  {
   "cell_type": "markdown",
   "metadata": {},
   "source": [
    "As we did with the ```ArithmeticSharedTensor```, we can look into the ```BinarySharedTensor``` to see that it does not actually keep the plaintext tensor. <b>TODO: This does not work with world size=1.</b>"
   ]
  },
  {
   "cell_type": "code",
   "execution_count": 8,
   "metadata": {},
   "outputs": [
    {
     "name": "stdout",
     "output_type": "stream",
     "text": [
      "Plaintext tensor: tensor([1, 2, 3], dtype=torch.int32)\n",
      "Encrypted tensor: tensor([1, 2, 3])\n"
     ]
    }
   ],
   "source": [
    "x = torch.tensor([1, 2, 3], dtype=torch.int32)\n",
    "print(\"Plaintext tensor:\", x)\n",
    "\n",
    "#Encrypt as BinarySharedTensor\n",
    "x_enc = BinarySharedTensor(x)\n",
    "\n",
    "#access the tensor inside the BinarySharedTensor x_enc\n",
    "print(\"Encrypted tensor:\", x_enc._tensor)"
   ]
  },
  {
   "cell_type": "markdown",
   "metadata": {},
   "source": [
    "### Using Both Secret-sharing Protocols\n",
    "Quite often a mathematical function may need to use both additive and XOR secret sharing for efficient evaluation. CrypTen provides functionality that allows for the conversion of ```ArithmeticSharedTensor``` to ```BinarySharedTensor``` and vice-versa. "
   ]
  },
  {
   "cell_type": "code",
   "execution_count": 9,
   "metadata": {},
   "outputs": [
    {
     "name": "stdout",
     "output_type": "stream",
     "text": [
      "Plaintext tensor: tensor([1, 2, 3])\n",
      "\n",
      "Initial encrypted type: <class 'crypten.mpc.primitives.arithmetic.ArithmeticSharedTensor'>\n",
      "ArithmeticSharedTensor value: tensor([ 65536, 131072, 196608])\n",
      "\n",
      "After conversion: <class 'crypten.mpc.primitives.binary.BinarySharedTensor'>\n",
      "BinarySharedTensor value: tensor([ 65536, 131072, 196608])\n",
      "\n",
      "Decrypting converted tensor: tensor([1., 2., 3.])\n"
     ]
    }
   ],
   "source": [
    "from crypten.mpc import MPCTensor\n",
    "\n",
    "x = torch.tensor([1, 2, 3])\n",
    "print(\"Plaintext tensor:\", x)\n",
    "print()\n",
    "\n",
    "#creating an MPCTensor that uses arithmetic secret sharing\n",
    "x_enc_arithmetic = MPCTensor(x, ptype=crypten.arithmetic)\n",
    "print(\"Initial encrypted type:\", type(x_enc_arithmetic._tensor))\n",
    "print(\"ArithmeticSharedTensor value:\", x_enc_arithmetic._tensor._tensor)\n",
    "print()\n",
    "\n",
    "#converting the MPCTensor to use binary secret sharing\n",
    "#TODO: This does not work with world size=1\n",
    "x_enc_binary = x_enc_arithmetic.binary()\n",
    "print(\"After conversion:\", type(x_enc_binary._tensor))\n",
    "print(\"BinarySharedTensor value:\", x_enc_binary._tensor._tensor)\n",
    "print()\n",
    "\n",
    "#Decrypting the converted tensor yields the original tensor\n",
    "print(\"Decrypting converted tensor:\", x_enc_binary.get_plain_text())"
   ]
  },
  {
   "cell_type": "markdown",
   "metadata": {},
   "source": [
    "Thus, even with conversions between ```ArithmeticSharedTensors``` and ```BinarySharedTensors```, CrypTen correctly decrypts the tensor.\n",
    "\n",
    "For the algorithms that convert between ```ArithmeticSharedTensors``` and ```BinarySharedTensors```, as well as examples of mathematical functions that require such conversion, please see the CrypTen whitepaper."
   ]
  }
 ],
 "metadata": {
  "bento_stylesheets": {
   "bento/extensions/flow/main.css": true,
   "bento/extensions/kernel_selector/main.css": true,
   "bento/extensions/kernel_ui/main.css": true,
   "bento/extensions/new_kernel/main.css": true,
   "bento/extensions/system_usage/main.css": true,
   "bento/extensions/theme/main.css": true
  },
  "disseminate_notebook_id": {
   "notebook_id": "429484050998746"
  },
  "disseminate_notebook_info": {
   "bento_version": "20190826-030256",
   "description": "",
   "hide_code": false,
   "hipster_group": "",
   "kernel_build_info": {
    "error": "The file located at '/data/users/shobha/fbsource/fbcode/bento/kernels/local/cryptenk/TARGETS' could not be found."
   },
   "no_uii": true,
   "notebook_number": "138165",
   "others_can_edit": true,
   "reviewers": "",
   "revision_id": "423050271652899",
   "tags": "",
   "tasks": "",
   "title": "Tutorial 2 -- MPCTensors under the hood"
  },
  "kernelspec": {
   "display_name": "Python 3",
   "language": "python",
   "name": "python3"
  },
  "language_info": {
   "codemirror_mode": {
    "name": "ipython",
    "version": 3
   },
   "file_extension": ".py",
   "mimetype": "text/x-python",
   "name": "python",
   "nbconvert_exporter": "python",
   "pygments_lexer": "ipython3",
   "version": "3.6.3"
  }
 },
 "nbformat": 4,
 "nbformat_minor": 2
}
